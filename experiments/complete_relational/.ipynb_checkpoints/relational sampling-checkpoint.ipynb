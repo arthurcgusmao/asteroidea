{
 "cells": [
  {
   "cell_type": "code",
   "execution_count": 7,
   "metadata": {
    "collapsed": false,
    "deletable": true,
    "editable": true,
    "scrolled": false
   },
   "outputs": [],
   "source": [
    "import os, sys\n",
    "sys.path.insert(1, os.path.join(sys.path[0], '../..'))\n",
    "from asteroidea.parser import *\n",
    "\n",
    "from problog.tasks import sample\n",
    "from problog.program import PrologString\n",
    "import pandas as pd\n",
    "from random import random\n",
    "\n",
    "\n",
    "def create_problog_relational_dataset(dataset_filepath, structure_filepath, output_filepath):\n",
    "    observations, constants = parse_relational_dataset(dataset_filepath)\n",
    "    # print(constants)\n",
    "\n",
    "    model = read_structure(structure_filepath)\n",
    "    variables = []\n",
    "    for head in model:\n",
    "        variables.append(head)\n",
    "    # print(variables)\n",
    "\n",
    "    substitutions = generate_substitutions(variables, constants)\n",
    "    # display(substitutions)\n",
    "\n",
    "    evidences = {}\n",
    "    for var in variables:\n",
    "        for substitution in substitutions:\n",
    "            ground = apply_substitution(var, substitution)\n",
    "            if ground in observations:\n",
    "                evidences[ground] = True\n",
    "            else:\n",
    "                evidences[ground] = False\n",
    "    # display(evidences)\n",
    "\n",
    "    problog_examples = ''\n",
    "    for ground in evidences:\n",
    "        if evidences[ground] == True:\n",
    "            problog_examples += 'evidence(' + ground + ',true).\\n'\n",
    "        else:\n",
    "            problog_examples += 'evidence(' + ground + ',false).\\n'\n",
    "\n",
    "    f = open(output_filepath, 'w+')\n",
    "    f.write(problog_examples)\n",
    "    f.close()\n",
    "\n",
    "\n",
    "\n",
    "def create_files(number_of_houses):\n",
    "    modeltext = \"\"\"\n",
    "    0.3::fire(X).\n",
    "    0.4::burglary(X).\n",
    "    0.7::alarm(X):-fire(X).\n",
    "    0.9::alarm(X):-burglary(X).\n",
    "    0.2::neighbor(X,Y).\n",
    "    neighbor(X,Y):-neighbor(Y,X).\n",
    "    0.8::calls(X,Y):-alarm(X),neighbor(X,Y).\n",
    "    \"\"\"\n",
    "    constant = 'p'\n",
    "\n",
    "    for i in range(1, (number_of_houses+1)):\n",
    "        modeltext += 'query(fire({}_{})).\\n'.format(constant, i)\n",
    "        modeltext += 'query(alarm({}_{})).\\n'.format(constant, i)\n",
    "        modeltext += 'query(burglary({}_{})).\\n'.format(constant, i)\n",
    "\n",
    "        for j in range(1, (number_of_houses+1)):\n",
    "            modeltext += 'query(neighbor({}_{},{}_{})).\\n'.format(constant, i, constant, j)\n",
    "            modeltext += 'query(calls({}_{},{}_{})).\\n'.format(constant, i, constant, j)\n",
    "\n",
    "    model = PrologString(modeltext)\n",
    "    result = sample.sample(model, n=1, format='dict')\n",
    "    output = \"\"\n",
    "    for s in result:\n",
    "        for q in s:\n",
    "            value = s[q]\n",
    "            if value == True:\n",
    "                output += str(q) + \".\\n\"\n",
    "\n",
    "    # saving to file\n",
    "    filename = \"dataset_{}.pl\".format(str(number_of_houses))\n",
    "    problog_filename = \"problog_dset_{}.pl\".format(str(number_of_houses))\n",
    "    f = open(filename, 'w+')\n",
    "    f.write(output)\n",
    "    f.close()\n",
    "    create_problog_relational_dataset(filename, 'structure.pl', problog_filename)"
   ]
  },
  {
   "cell_type": "code",
   "execution_count": 8,
   "metadata": {
    "collapsed": false,
    "deletable": true,
    "editable": true
   },
   "outputs": [
    {
     "name": "stdout",
     "output_type": "stream",
     "text": [
      "[5]\n"
     ]
    }
   ],
   "source": [
    "l = []\n",
    "for i in range(1, 2):\n",
    "    l.append(i*5)\n",
    "print(l)"
   ]
  },
  {
   "cell_type": "code",
   "execution_count": 9,
   "metadata": {
    "collapsed": false,
    "deletable": true,
    "editable": true
   },
   "outputs": [],
   "source": [
    "for n in l:\n",
    "    create_files(n)"
   ]
  },
  {
   "cell_type": "code",
   "execution_count": null,
   "metadata": {
    "collapsed": true,
    "deletable": true,
    "editable": true
   },
   "outputs": [],
   "source": []
  }
 ],
 "metadata": {
  "kernelspec": {
   "display_name": "Python 3",
   "language": "python",
   "name": "python3"
  },
  "language_info": {
   "codemirror_mode": {
    "name": "ipython",
    "version": 3
   },
   "file_extension": ".py",
   "mimetype": "text/x-python",
   "name": "python",
   "nbconvert_exporter": "python",
   "pygments_lexer": "ipython3",
   "version": "3.6.1"
  }
 },
 "nbformat": 4,
 "nbformat_minor": 2
}
